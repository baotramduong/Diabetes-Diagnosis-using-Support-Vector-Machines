{
  "nbformat": 4,
  "nbformat_minor": 0,
  "metadata": {
    "kernelspec": {
      "display_name": "Python 3",
      "language": "python",
      "name": "python3"
    },
    "language_info": {
      "codemirror_mode": {
        "name": "ipython",
        "version": 3
      },
      "file_extension": ".py",
      "mimetype": "text/x-python",
      "name": "python",
      "nbconvert_exporter": "python",
      "pygments_lexer": "ipython3",
      "version": "3.6.9"
    },
    "colab": {
      "name": "Diabetes Diagnosis with Support Vector Machines.ipynb",
      "provenance": []
    }
  },
  "cells": [
    {
      "cell_type": "markdown",
      "metadata": {
        "id": "-eDwgKqS21Pi"
      },
      "source": [
        "# Diabetes Diagnosis with Support Vector Machines\n",
        "\n",
        "## Import Libraries\n",
        "\n"
      ]
    },
    {
      "cell_type": "code",
      "metadata": {
        "id": "_b3yGJlF21Pi"
      },
      "source": [
        "#import libraries and packages\n",
        "import numpy as np\n",
        "import pandas as pd\n",
        "import seaborn as sns\n",
        "sns.set_style('whitegrid')\n",
        "import matplotlib.pyplot as plt\n",
        "%matplotlib inline\n",
        "\n",
        "from sklearn import svm\n",
        "from sklearn.preprocessing import StandardScaler\n",
        "from sklearn.model_selection import train_test_split\n",
        "from sklearn.metrics import accuracy_score, classification_report, confusion_matrix, roc_auc_score, roc_curve"
      ],
      "execution_count": 1,
      "outputs": []
    },
    {
      "cell_type": "markdown",
      "metadata": {
        "id": "xXt1Kb6j21Pj"
      },
      "source": [
        "## Get Data"
      ]
    },
    {
      "cell_type": "code",
      "metadata": {
        "colab": {
          "base_uri": "https://localhost:8080/",
          "height": 221
        },
        "id": "zTBaTs9B21Pj",
        "outputId": "25b55316-1969-4afa-8fbd-871d99549049"
      },
      "source": [
        "#define column names\n",
        "column_names = [\"pregnancies\", \"glucose\", \"bpressure\", \"skinfold\", \"insulin\", \"bmi\", \"pedigree\", \"age\", \"class\"]\n",
        "df = pd.read_csv('data.csv', names=column_names)\n",
        "\n",
        "#check shape\n",
        "print(df.shape)\n",
        "\n",
        "#preview\n",
        "df.head()"
      ],
      "execution_count": 2,
      "outputs": [
        {
          "output_type": "stream",
          "text": [
            "(768, 9)\n"
          ],
          "name": "stdout"
        },
        {
          "output_type": "execute_result",
          "data": {
            "text/html": [
              "<div>\n",
              "<style scoped>\n",
              "    .dataframe tbody tr th:only-of-type {\n",
              "        vertical-align: middle;\n",
              "    }\n",
              "\n",
              "    .dataframe tbody tr th {\n",
              "        vertical-align: top;\n",
              "    }\n",
              "\n",
              "    .dataframe thead th {\n",
              "        text-align: right;\n",
              "    }\n",
              "</style>\n",
              "<table border=\"1\" class=\"dataframe\">\n",
              "  <thead>\n",
              "    <tr style=\"text-align: right;\">\n",
              "      <th></th>\n",
              "      <th>pregnancies</th>\n",
              "      <th>glucose</th>\n",
              "      <th>bpressure</th>\n",
              "      <th>skinfold</th>\n",
              "      <th>insulin</th>\n",
              "      <th>bmi</th>\n",
              "      <th>pedigree</th>\n",
              "      <th>age</th>\n",
              "      <th>class</th>\n",
              "    </tr>\n",
              "  </thead>\n",
              "  <tbody>\n",
              "    <tr>\n",
              "      <th>0</th>\n",
              "      <td>6</td>\n",
              "      <td>148</td>\n",
              "      <td>72</td>\n",
              "      <td>35</td>\n",
              "      <td>0</td>\n",
              "      <td>33.6</td>\n",
              "      <td>0.627</td>\n",
              "      <td>50</td>\n",
              "      <td>1</td>\n",
              "    </tr>\n",
              "    <tr>\n",
              "      <th>1</th>\n",
              "      <td>1</td>\n",
              "      <td>85</td>\n",
              "      <td>66</td>\n",
              "      <td>29</td>\n",
              "      <td>0</td>\n",
              "      <td>26.6</td>\n",
              "      <td>0.351</td>\n",
              "      <td>31</td>\n",
              "      <td>0</td>\n",
              "    </tr>\n",
              "    <tr>\n",
              "      <th>2</th>\n",
              "      <td>8</td>\n",
              "      <td>183</td>\n",
              "      <td>64</td>\n",
              "      <td>0</td>\n",
              "      <td>0</td>\n",
              "      <td>23.3</td>\n",
              "      <td>0.672</td>\n",
              "      <td>32</td>\n",
              "      <td>1</td>\n",
              "    </tr>\n",
              "    <tr>\n",
              "      <th>3</th>\n",
              "      <td>1</td>\n",
              "      <td>89</td>\n",
              "      <td>66</td>\n",
              "      <td>23</td>\n",
              "      <td>94</td>\n",
              "      <td>28.1</td>\n",
              "      <td>0.167</td>\n",
              "      <td>21</td>\n",
              "      <td>0</td>\n",
              "    </tr>\n",
              "    <tr>\n",
              "      <th>4</th>\n",
              "      <td>0</td>\n",
              "      <td>137</td>\n",
              "      <td>40</td>\n",
              "      <td>35</td>\n",
              "      <td>168</td>\n",
              "      <td>43.1</td>\n",
              "      <td>2.288</td>\n",
              "      <td>33</td>\n",
              "      <td>1</td>\n",
              "    </tr>\n",
              "  </tbody>\n",
              "</table>\n",
              "</div>"
            ],
            "text/plain": [
              "   pregnancies  glucose  bpressure  skinfold  ...   bmi  pedigree  age  class\n",
              "0            6      148         72        35  ...  33.6     0.627   50      1\n",
              "1            1       85         66        29  ...  26.6     0.351   31      0\n",
              "2            8      183         64         0  ...  23.3     0.672   32      1\n",
              "3            1       89         66        23  ...  28.1     0.167   21      0\n",
              "4            0      137         40        35  ...  43.1     2.288   33      1\n",
              "\n",
              "[5 rows x 9 columns]"
            ]
          },
          "metadata": {},
          "execution_count": 2
        }
      ]
    },
    {
      "cell_type": "markdown",
      "metadata": {
        "id": "7-xqYo-j21Pj"
      },
      "source": [
        "## Extract Features"
      ]
    },
    {
      "cell_type": "code",
      "metadata": {
        "id": "cjVUsQJC21Pk"
      },
      "source": [
        "#define X, y\n",
        "X = df.drop(columns=['class'], axis=1)\n",
        "y = df['class']"
      ],
      "execution_count": 3,
      "outputs": []
    },
    {
      "cell_type": "code",
      "metadata": {
        "colab": {
          "base_uri": "https://localhost:8080/",
          "height": 204
        },
        "id": "A1TWlaPX21Pk",
        "outputId": "9a3068a6-abe3-49fa-d484-ff563f3ff3c4"
      },
      "source": [
        "#preview\n",
        "X.head()"
      ],
      "execution_count": 4,
      "outputs": [
        {
          "output_type": "execute_result",
          "data": {
            "text/html": [
              "<div>\n",
              "<style scoped>\n",
              "    .dataframe tbody tr th:only-of-type {\n",
              "        vertical-align: middle;\n",
              "    }\n",
              "\n",
              "    .dataframe tbody tr th {\n",
              "        vertical-align: top;\n",
              "    }\n",
              "\n",
              "    .dataframe thead th {\n",
              "        text-align: right;\n",
              "    }\n",
              "</style>\n",
              "<table border=\"1\" class=\"dataframe\">\n",
              "  <thead>\n",
              "    <tr style=\"text-align: right;\">\n",
              "      <th></th>\n",
              "      <th>pregnancies</th>\n",
              "      <th>glucose</th>\n",
              "      <th>bpressure</th>\n",
              "      <th>skinfold</th>\n",
              "      <th>insulin</th>\n",
              "      <th>bmi</th>\n",
              "      <th>pedigree</th>\n",
              "      <th>age</th>\n",
              "    </tr>\n",
              "  </thead>\n",
              "  <tbody>\n",
              "    <tr>\n",
              "      <th>0</th>\n",
              "      <td>6</td>\n",
              "      <td>148</td>\n",
              "      <td>72</td>\n",
              "      <td>35</td>\n",
              "      <td>0</td>\n",
              "      <td>33.6</td>\n",
              "      <td>0.627</td>\n",
              "      <td>50</td>\n",
              "    </tr>\n",
              "    <tr>\n",
              "      <th>1</th>\n",
              "      <td>1</td>\n",
              "      <td>85</td>\n",
              "      <td>66</td>\n",
              "      <td>29</td>\n",
              "      <td>0</td>\n",
              "      <td>26.6</td>\n",
              "      <td>0.351</td>\n",
              "      <td>31</td>\n",
              "    </tr>\n",
              "    <tr>\n",
              "      <th>2</th>\n",
              "      <td>8</td>\n",
              "      <td>183</td>\n",
              "      <td>64</td>\n",
              "      <td>0</td>\n",
              "      <td>0</td>\n",
              "      <td>23.3</td>\n",
              "      <td>0.672</td>\n",
              "      <td>32</td>\n",
              "    </tr>\n",
              "    <tr>\n",
              "      <th>3</th>\n",
              "      <td>1</td>\n",
              "      <td>89</td>\n",
              "      <td>66</td>\n",
              "      <td>23</td>\n",
              "      <td>94</td>\n",
              "      <td>28.1</td>\n",
              "      <td>0.167</td>\n",
              "      <td>21</td>\n",
              "    </tr>\n",
              "    <tr>\n",
              "      <th>4</th>\n",
              "      <td>0</td>\n",
              "      <td>137</td>\n",
              "      <td>40</td>\n",
              "      <td>35</td>\n",
              "      <td>168</td>\n",
              "      <td>43.1</td>\n",
              "      <td>2.288</td>\n",
              "      <td>33</td>\n",
              "    </tr>\n",
              "  </tbody>\n",
              "</table>\n",
              "</div>"
            ],
            "text/plain": [
              "   pregnancies  glucose  bpressure  skinfold  insulin   bmi  pedigree  age\n",
              "0            6      148         72        35        0  33.6     0.627   50\n",
              "1            1       85         66        29        0  26.6     0.351   31\n",
              "2            8      183         64         0        0  23.3     0.672   32\n",
              "3            1       89         66        23       94  28.1     0.167   21\n",
              "4            0      137         40        35      168  43.1     2.288   33"
            ]
          },
          "metadata": {},
          "execution_count": 4
        }
      ]
    },
    {
      "cell_type": "markdown",
      "metadata": {
        "id": "UnJ2pxiy21Pk"
      },
      "source": [
        "## Extract Class Labels"
      ]
    },
    {
      "cell_type": "code",
      "metadata": {
        "colab": {
          "base_uri": "https://localhost:8080/"
        },
        "id": "L5BjbfT221Pk",
        "outputId": "5c4aee81-3a63-42bd-ebae-56190284b3f2"
      },
      "source": [
        "y.head()"
      ],
      "execution_count": 5,
      "outputs": [
        {
          "output_type": "execute_result",
          "data": {
            "text/plain": [
              "0    1\n",
              "1    0\n",
              "2    1\n",
              "3    0\n",
              "4    1\n",
              "Name: class, dtype: int64"
            ]
          },
          "metadata": {},
          "execution_count": 5
        }
      ]
    },
    {
      "cell_type": "markdown",
      "metadata": {
        "id": "hEWlqA6a21Pl"
      },
      "source": [
        "## Split Dataset"
      ]
    },
    {
      "cell_type": "code",
      "metadata": {
        "scrolled": true,
        "colab": {
          "base_uri": "https://localhost:8080/"
        },
        "id": "mnakEbrg21Pl",
        "outputId": "f1295303-9762-408e-aee8-f089e425f5c2"
      },
      "source": [
        "#train test split\n",
        "X_train, X_test, y_train, y_test = train_test_split(X, y, test_size=0.25, random_state=121)\n",
        "\n",
        "#check shape\n",
        "print(X_train.shape)\n",
        "print(X_test.shape)\n",
        "print(y_train.shape)\n",
        "print(y_test.shape)"
      ],
      "execution_count": 6,
      "outputs": [
        {
          "output_type": "stream",
          "text": [
            "(576, 8)\n",
            "(192, 8)\n",
            "(576,)\n",
            "(192,)\n"
          ],
          "name": "stdout"
        }
      ]
    },
    {
      "cell_type": "code",
      "metadata": {
        "colab": {
          "base_uri": "https://localhost:8080/",
          "height": 204
        },
        "id": "r75jup7D21Pl",
        "outputId": "8f5ed592-41a6-4b83-af5a-a4efa11d2450"
      },
      "source": [
        "#see subdataset\n",
        "X_test.head()"
      ],
      "execution_count": 7,
      "outputs": [
        {
          "output_type": "execute_result",
          "data": {
            "text/html": [
              "<div>\n",
              "<style scoped>\n",
              "    .dataframe tbody tr th:only-of-type {\n",
              "        vertical-align: middle;\n",
              "    }\n",
              "\n",
              "    .dataframe tbody tr th {\n",
              "        vertical-align: top;\n",
              "    }\n",
              "\n",
              "    .dataframe thead th {\n",
              "        text-align: right;\n",
              "    }\n",
              "</style>\n",
              "<table border=\"1\" class=\"dataframe\">\n",
              "  <thead>\n",
              "    <tr style=\"text-align: right;\">\n",
              "      <th></th>\n",
              "      <th>pregnancies</th>\n",
              "      <th>glucose</th>\n",
              "      <th>bpressure</th>\n",
              "      <th>skinfold</th>\n",
              "      <th>insulin</th>\n",
              "      <th>bmi</th>\n",
              "      <th>pedigree</th>\n",
              "      <th>age</th>\n",
              "    </tr>\n",
              "  </thead>\n",
              "  <tbody>\n",
              "    <tr>\n",
              "      <th>601</th>\n",
              "      <td>6</td>\n",
              "      <td>96</td>\n",
              "      <td>0</td>\n",
              "      <td>0</td>\n",
              "      <td>0</td>\n",
              "      <td>23.7</td>\n",
              "      <td>0.190</td>\n",
              "      <td>28</td>\n",
              "    </tr>\n",
              "    <tr>\n",
              "      <th>224</th>\n",
              "      <td>1</td>\n",
              "      <td>100</td>\n",
              "      <td>66</td>\n",
              "      <td>15</td>\n",
              "      <td>56</td>\n",
              "      <td>23.6</td>\n",
              "      <td>0.666</td>\n",
              "      <td>26</td>\n",
              "    </tr>\n",
              "    <tr>\n",
              "      <th>766</th>\n",
              "      <td>1</td>\n",
              "      <td>126</td>\n",
              "      <td>60</td>\n",
              "      <td>0</td>\n",
              "      <td>0</td>\n",
              "      <td>30.1</td>\n",
              "      <td>0.349</td>\n",
              "      <td>47</td>\n",
              "    </tr>\n",
              "    <tr>\n",
              "      <th>17</th>\n",
              "      <td>7</td>\n",
              "      <td>107</td>\n",
              "      <td>74</td>\n",
              "      <td>0</td>\n",
              "      <td>0</td>\n",
              "      <td>29.6</td>\n",
              "      <td>0.254</td>\n",
              "      <td>31</td>\n",
              "    </tr>\n",
              "    <tr>\n",
              "      <th>369</th>\n",
              "      <td>1</td>\n",
              "      <td>133</td>\n",
              "      <td>102</td>\n",
              "      <td>28</td>\n",
              "      <td>140</td>\n",
              "      <td>32.8</td>\n",
              "      <td>0.234</td>\n",
              "      <td>45</td>\n",
              "    </tr>\n",
              "  </tbody>\n",
              "</table>\n",
              "</div>"
            ],
            "text/plain": [
              "     pregnancies  glucose  bpressure  skinfold  insulin   bmi  pedigree  age\n",
              "601            6       96          0         0        0  23.7     0.190   28\n",
              "224            1      100         66        15       56  23.6     0.666   26\n",
              "766            1      126         60         0        0  30.1     0.349   47\n",
              "17             7      107         74         0        0  29.6     0.254   31\n",
              "369            1      133        102        28      140  32.8     0.234   45"
            ]
          },
          "metadata": {},
          "execution_count": 7
        }
      ]
    },
    {
      "cell_type": "markdown",
      "metadata": {
        "id": "1jX0alp_21Pl"
      },
      "source": [
        "## Normalize Features"
      ]
    },
    {
      "cell_type": "code",
      "metadata": {
        "id": "4xhwVelU21Pl"
      },
      "source": [
        "#instantiate\n",
        "scaler = StandardScaler()\n",
        "\n",
        "#fit & transform\n",
        "scaler.fit(X_train)\n",
        "X_train = scaler.transform(X_train)"
      ],
      "execution_count": 8,
      "outputs": []
    },
    {
      "cell_type": "code",
      "metadata": {
        "colab": {
          "base_uri": "https://localhost:8080/"
        },
        "id": "SKC70xHa21Pm",
        "outputId": "f4d4a035-2c88-4984-ad29-ece5b5bb4181"
      },
      "source": [
        "X_train[:5, :]"
      ],
      "execution_count": 9,
      "outputs": [
        {
          "output_type": "execute_result",
          "data": {
            "text/plain": [
              "array([[-1.15995078, -0.2709359 ,  0.54465661, -0.28872154, -0.68489127,\n",
              "        -0.11834059,  1.30293365, -1.07765731],\n",
              "       [-0.27539873, -0.05214689,  0.00487305,  0.58459072,  0.44260201,\n",
              "         1.39953692, -0.02940135, -0.29357654],\n",
              "       [-1.15995078,  1.79193195,  1.08444017,  0.39745238, -0.68489127,\n",
              "         1.5526002 ,  0.70938156, -0.90341714],\n",
              "       [-0.8651001 , -0.77102508,  0.00487305, -0.35110098, -0.68489127,\n",
              "        -1.75101556, -0.99234489, -1.07765731],\n",
              "       [ 0.90400401, -0.23968033, -0.21104038, -1.28679268, -0.68489127,\n",
              "         0.11125433, -0.64189659,  0.75186449]])"
            ]
          },
          "metadata": {},
          "execution_count": 9
        }
      ]
    },
    {
      "cell_type": "markdown",
      "metadata": {
        "id": "My2ZgJlV21Pm"
      },
      "source": [
        "## Training a Support Vector Machine"
      ]
    },
    {
      "cell_type": "code",
      "metadata": {
        "colab": {
          "base_uri": "https://localhost:8080/"
        },
        "id": "ZDBHOSq-21Pm",
        "outputId": "96e9914d-6a08-45b7-d2cc-7c635ddbb47e"
      },
      "source": [
        "#instantiate\n",
        "clf = svm.SVC(kernel='sigmoid')\n",
        "\n",
        "#fit\n",
        "clf.fit(X_train, y_train)"
      ],
      "execution_count": 10,
      "outputs": [
        {
          "output_type": "execute_result",
          "data": {
            "text/plain": [
              "SVC(C=1.0, break_ties=False, cache_size=200, class_weight=None, coef0=0.0,\n",
              "    decision_function_shape='ovr', degree=3, gamma='scale', kernel='sigmoid',\n",
              "    max_iter=-1, probability=False, random_state=None, shrinking=True,\n",
              "    tol=0.001, verbose=False)"
            ]
          },
          "metadata": {},
          "execution_count": 10
        }
      ]
    },
    {
      "cell_type": "markdown",
      "metadata": {
        "id": "eufc5N5v21Pm"
      },
      "source": [
        "## Decision Boundary"
      ]
    },
    {
      "cell_type": "code",
      "metadata": {
        "colab": {
          "base_uri": "https://localhost:8080/"
        },
        "id": "_P8cP_PZ21Pm",
        "outputId": "aa79a5ca-ca29-433a-b4d7-a5528b76a358"
      },
      "source": [
        "#make prediction on train set\n",
        "y_pred = clf.predict(X_train)\n",
        "print(y_pred)"
      ],
      "execution_count": 11,
      "outputs": [
        {
          "output_type": "stream",
          "text": [
            "[0 1 1 0 0 1 0 0 0 0 0 1 1 0 1 0 0 1 0 0 0 0 1 0 0 1 0 0 1 1 0 0 0 0 1 0 0\n",
            " 1 0 1 0 1 0 1 0 0 0 1 1 1 0 0 0 1 1 1 0 0 1 1 0 0 0 1 0 0 0 0 0 0 0 0 0 1\n",
            " 0 1 1 0 0 0 0 0 0 0 0 0 0 0 0 0 0 1 1 1 0 0 0 1 0 0 0 0 1 0 0 0 1 1 0 0 0\n",
            " 0 1 0 0 0 0 0 0 0 1 1 0 0 1 1 0 0 0 0 0 0 1 0 0 0 0 0 0 0 1 1 0 0 1 1 0 0\n",
            " 0 0 0 1 0 0 1 0 1 0 0 1 0 1 0 0 0 0 1 1 0 0 0 0 0 0 1 0 0 1 0 0 1 0 1 0 0\n",
            " 1 0 0 1 0 0 0 0 1 0 1 0 0 1 1 0 0 0 1 0 0 0 0 0 0 0 0 0 0 1 0 0 0 1 1 0 0\n",
            " 0 1 0 0 1 0 0 1 0 1 0 0 1 0 1 0 1 1 0 0 1 0 0 1 0 1 0 0 1 0 0 0 0 0 1 0 1\n",
            " 0 1 1 0 0 0 0 0 0 1 0 0 0 1 1 0 0 0 0 1 0 0 1 1 1 0 0 0 0 0 0 1 1 0 1 1 0\n",
            " 0 0 0 1 0 1 0 0 1 0 0 1 0 0 0 0 1 0 0 0 0 1 0 0 1 0 1 1 0 0 1 0 0 0 0 0 0\n",
            " 0 1 0 1 0 0 1 0 0 0 0 0 0 1 1 0 0 0 1 0 0 0 1 1 1 0 0 0 1 1 1 1 0 0 1 1 0\n",
            " 0 0 1 0 1 1 0 0 1 0 0 1 1 1 0 0 0 0 0 1 0 0 0 1 0 0 0 1 0 1 1 0 0 0 1 0 1\n",
            " 0 0 1 1 1 1 0 1 0 1 1 0 0 1 0 1 0 0 0 0 0 0 0 0 0 0 0 1 0 0 0 0 0 0 0 0 0\n",
            " 0 1 1 0 1 1 0 0 0 0 0 0 1 0 0 0 0 0 1 1 0 1 0 0 0 0 1 0 0 0 0 0 1 0 1 1 0\n",
            " 1 0 0 0 0 0 1 1 1 0 0 1 1 1 0 0 1 0 0 0 0 0 1 1 1 1 1 1 1 0 0 0 1 1 0 0 0\n",
            " 0 1 0 0 0 0 0 0 0 1 1 0 0 0 1 0 0 0 0 0 1 0 1 0 1 1 0 1 0 0 1 0 0 0 0 0 0\n",
            " 1 1 0 0 0 0 0 1 1 0 0 1 0 1 1 0 0 0 0 1 0]\n"
          ],
          "name": "stdout"
        }
      ]
    },
    {
      "cell_type": "code",
      "metadata": {
        "colab": {
          "base_uri": "https://localhost:8080/"
        },
        "id": "RJhAFXBn21Pm",
        "outputId": "07f37a54-4626-4a69-a789-8f6b73e01f17"
      },
      "source": [
        "#get accuracy score\n",
        "accuracy_score(y_train, y_pred)"
      ],
      "execution_count": 12,
      "outputs": [
        {
          "output_type": "execute_result",
          "data": {
            "text/plain": [
              "0.6597222222222222"
            ]
          },
          "metadata": {},
          "execution_count": 12
        }
      ]
    },
    {
      "cell_type": "markdown",
      "metadata": {
        "id": "Bu0ino8w21Pm"
      },
      "source": [
        "## SVM Kernels"
      ]
    },
    {
      "cell_type": "code",
      "metadata": {
        "colab": {
          "base_uri": "https://localhost:8080/"
        },
        "id": "Ymy__kky21Pn",
        "outputId": "d362bcf9-b98d-4120-8f30-3dd712ab7347"
      },
      "source": [
        "#find the best decision boundary\n",
        "for k in ('linear', 'poly', 'rbf', 'sigmoid'):\n",
        "    clf = svm.SVC(kernel=k)\n",
        "    clf.fit(X_train, y_train)\n",
        "    y_pred = clf.predict(X_train)\n",
        "    print(k)\n",
        "    print(accuracy_score(y_train, y_pred))"
      ],
      "execution_count": 13,
      "outputs": [
        {
          "output_type": "stream",
          "text": [
            "linear\n",
            "0.7725694444444444\n",
            "poly\n",
            "0.7829861111111112\n",
            "rbf\n",
            "0.8072916666666666\n",
            "sigmoid\n",
            "0.6597222222222222\n"
          ],
          "name": "stdout"
        }
      ]
    },
    {
      "cell_type": "markdown",
      "metadata": {
        "id": "M_vowmX-21Pn"
      },
      "source": [
        "## Instantiating the Best Model"
      ]
    },
    {
      "cell_type": "code",
      "metadata": {
        "colab": {
          "base_uri": "https://localhost:8080/"
        },
        "id": "Ut6QIB4G21Pn",
        "outputId": "73296270-7689-44e3-a772-c714c2a6b87b"
      },
      "source": [
        "#create another model with the best kernel 'rbf'\n",
        "clf = svm.SVC(kernel='rbf')\n",
        "\n",
        "#fit\n",
        "clf.fit(X_train, y_train)"
      ],
      "execution_count": 14,
      "outputs": [
        {
          "output_type": "execute_result",
          "data": {
            "text/plain": [
              "SVC(C=1.0, break_ties=False, cache_size=200, class_weight=None, coef0=0.0,\n",
              "    decision_function_shape='ovr', degree=3, gamma='scale', kernel='rbf',\n",
              "    max_iter=-1, probability=False, random_state=None, shrinking=True,\n",
              "    tol=0.001, verbose=False)"
            ]
          },
          "metadata": {},
          "execution_count": 14
        }
      ]
    },
    {
      "cell_type": "markdown",
      "metadata": {
        "id": "1yxW5haJ21Pn"
      },
      "source": [
        "## Making a single prediction"
      ]
    },
    {
      "cell_type": "code",
      "metadata": {
        "colab": {
          "base_uri": "https://localhost:8080/"
        },
        "id": "1nTIPIPF21Pn",
        "outputId": "0201f057-3500-48d3-bdac-c9a6abe3f1ea"
      },
      "source": [
        "#create a patient\n",
        "patient_1 = np.array([[1., 200., 75., 40., 0.,45., 1.5, 20]])\n",
        "\n",
        "#normalize these values\n",
        "patient_1 = scaler.transform(patient_1)\n",
        "\n",
        "#predict\n",
        "clf.predict(patient_1)"
      ],
      "execution_count": 15,
      "outputs": [
        {
          "output_type": "execute_result",
          "data": {
            "text/plain": [
              "array([1])"
            ]
          },
          "metadata": {},
          "execution_count": 15
        }
      ]
    },
    {
      "cell_type": "code",
      "metadata": {
        "colab": {
          "base_uri": "https://localhost:8080/"
        },
        "id": "0f9zp-se21Pn",
        "outputId": "4f45a59e-910e-4377-b734-c85d8b7e66a9"
      },
      "source": [
        "#create a patient\n",
        "patient_2 = np.array([[1., 50., 75., 40., 0.,45., 1.5, 20]])\n",
        "\n",
        "#normalize these values\n",
        "patient_2 = scaler.transform(patient_2)\n",
        "\n",
        "#predict\n",
        "clf.predict(patient_2)"
      ],
      "execution_count": 16,
      "outputs": [
        {
          "output_type": "execute_result",
          "data": {
            "text/plain": [
              "array([0])"
            ]
          },
          "metadata": {},
          "execution_count": 16
        }
      ]
    },
    {
      "cell_type": "markdown",
      "metadata": {
        "id": "XeGUPAtI21Po"
      },
      "source": [
        "## Testing Set Prediction"
      ]
    },
    {
      "cell_type": "code",
      "metadata": {
        "colab": {
          "base_uri": "https://localhost:8080/"
        },
        "id": "YR4glGTr21Po",
        "outputId": "a8b6d660-8d2a-4300-aceb-a612c6163879"
      },
      "source": [
        "#get patient from test set\n",
        "patient_test1 = np.array([X_test.iloc[0]])\n",
        "\n",
        "#normalize\n",
        "patient_test1 = scaler.transform(patient_test1)\n",
        "\n",
        "#predict\n",
        "print(clf.predict(patient_test1))\n",
        "\n",
        "#compare with true prediction\n",
        "print(y_test.iloc[0])"
      ],
      "execution_count": 17,
      "outputs": [
        {
          "output_type": "stream",
          "text": [
            "[0]\n",
            "0\n"
          ],
          "name": "stdout"
        }
      ]
    },
    {
      "cell_type": "code",
      "metadata": {
        "colab": {
          "base_uri": "https://localhost:8080/"
        },
        "id": "73us7vaM21Po",
        "outputId": "776bd695-cdc1-48d6-b5ae-d0fc8d58b5e7"
      },
      "source": [
        "#get patient from test set\n",
        "patient_test2 = np.array([X_test.iloc[8]])\n",
        "\n",
        "#normalize\n",
        "patient_test2 = scaler.transform(patient_test2)\n",
        "\n",
        "#predict\n",
        "print(clf.predict(patient_test2))\n",
        "\n",
        "#compare with true prediction\n",
        "print(y_test.iloc[8])"
      ],
      "execution_count": 18,
      "outputs": [
        {
          "output_type": "stream",
          "text": [
            "[0]\n",
            "1\n"
          ],
          "name": "stdout"
        }
      ]
    },
    {
      "cell_type": "markdown",
      "metadata": {
        "id": "ejOfLzAD21Po"
      },
      "source": [
        "\n",
        "## Accuracy on Testing Set"
      ]
    },
    {
      "cell_type": "code",
      "metadata": {
        "id": "0XR68fgf21Po"
      },
      "source": [
        "#normalize all test set feature\n",
        "X_test = scaler.transform(X_test)"
      ],
      "execution_count": 19,
      "outputs": []
    },
    {
      "cell_type": "code",
      "metadata": {
        "id": "SklAdHYS21Po"
      },
      "source": [
        "#generate predictions for the whole set\n",
        "y_pred = clf.predict(X_test)"
      ],
      "execution_count": 20,
      "outputs": []
    },
    {
      "cell_type": "code",
      "metadata": {
        "colab": {
          "base_uri": "https://localhost:8080/"
        },
        "id": "B647TZjm21Po",
        "outputId": "f45f4ef9-aa64-49af-d305-39796cef9541"
      },
      "source": [
        "#get accuracy score\n",
        "print(accuracy_score(y_test, y_pred))"
      ],
      "execution_count": 21,
      "outputs": [
        {
          "output_type": "stream",
          "text": [
            "0.8020833333333334\n"
          ],
          "name": "stdout"
        }
      ]
    },
    {
      "cell_type": "markdown",
      "metadata": {
        "id": "dXPQWTPG21Pp"
      },
      "source": [
        "## Comparison to All-Zero Prediction"
      ]
    },
    {
      "cell_type": "code",
      "metadata": {
        "colab": {
          "base_uri": "https://localhost:8080/"
        },
        "id": "8NR3Uqew21Pp",
        "outputId": "13753733-6ef4-4b0d-b033-252f3406c7c9"
      },
      "source": [
        "#assume no one has diabetes\n",
        "y_zero = np.zeros(y_test.shape)\n",
        "\n",
        "#get accuracy\n",
        "print(accuracy_score(y_test, y_zero))"
      ],
      "execution_count": 22,
      "outputs": [
        {
          "output_type": "stream",
          "text": [
            "0.640625\n"
          ],
          "name": "stdout"
        }
      ]
    },
    {
      "cell_type": "markdown",
      "metadata": {
        "id": "fXDlEeLi21Pp"
      },
      "source": [
        "## Precision and Recall"
      ]
    },
    {
      "cell_type": "code",
      "metadata": {
        "colab": {
          "base_uri": "https://localhost:8080/"
        },
        "id": "IrsE0gDO21Pp",
        "outputId": "6f5e1bae-8bfe-48ff-8789-8adbb06e28b5"
      },
      "source": [
        "#get classification report\n",
        "print(classification_report(y_test, y_pred))"
      ],
      "execution_count": 23,
      "outputs": [
        {
          "output_type": "stream",
          "text": [
            "              precision    recall  f1-score   support\n",
            "\n",
            "           0       0.80      0.92      0.86       123\n",
            "           1       0.80      0.59      0.68        69\n",
            "\n",
            "    accuracy                           0.80       192\n",
            "   macro avg       0.80      0.76      0.77       192\n",
            "weighted avg       0.80      0.80      0.79       192\n",
            "\n"
          ],
          "name": "stdout"
        }
      ]
    },
    {
      "cell_type": "code",
      "metadata": {
        "colab": {
          "base_uri": "https://localhost:8080/",
          "height": 497
        },
        "id": "wZOR7iKX21Pp",
        "outputId": "dc27d481-1c07-4493-c672-22b749b037fc"
      },
      "source": [
        "#plot confusion matrix function\n",
        "def plot_cm(y_true, y_pred, figsize=(10, 8)):\n",
        "    cm = confusion_matrix(y_true, y_pred, labels=np.unique(y_true))\n",
        "    cm_sum = np.sum(cm, axis=1, keepdims=True)\n",
        "    cm_perc = cm / cm_sum.astype(float) * 100\n",
        "    annot = np.empty_like(cm).astype(str)\n",
        "    nrows, ncols = cm.shape\n",
        "    for i in range(nrows):\n",
        "        for j in range(ncols):\n",
        "            c = cm[i, j]\n",
        "            p = cm_perc[i, j]\n",
        "            if i == j:\n",
        "                s = cm_sum[i]\n",
        "                annot[i, j] = '%.1f%%\\n%d/%d' % (p, c, s)\n",
        "            elif c == 0:\n",
        "                annot[i, j] = ''\n",
        "            else:\n",
        "                annot[i, j] = '%.1f%%\\n%d' % (p, c)\n",
        "    cm = pd.DataFrame(cm, index=np.unique(y_true), columns=np.unique(y_true))\n",
        "    cm.index.name = 'Actual'\n",
        "    cm.columns.name = 'Predicted'\n",
        "    fig, ax = plt.subplots(figsize=figsize)\n",
        "    sns.heatmap(cm, cmap= \"YlGnBu\", annot=annot, fmt='', ax=ax)\n",
        "\n",
        "#apply function    \n",
        "plot_cm(y_test, y_pred)"
      ],
      "execution_count": 24,
      "outputs": [
        {
          "output_type": "display_data",
          "data": {
            "image/png": "[encoded data removed]",
            "text/plain": [
              "<Figure size 720x576 with 2 Axes>"
            ]
          },
          "metadata": {
            "needs_background": "light"
          }
        }
      ]
    },
    {
      "cell_type": "code",
      "metadata": {
        "colab": {
          "base_uri": "https://localhost:8080/",
          "height": 421
        },
        "id": "3B5mXymd3415",
        "outputId": "10fbdda5-93d2-4358-bb79-fa846be9d224"
      },
      "source": [
        "#roc curve\n",
        "fpr, tpr, thresholds = roc_curve(y_test, y_pred)\n",
        "auc = roc_auc_score(y_test, y_pred)\n",
        "print('AUC:', auc)\n",
        "\n",
        "plt.figure(figsize = (10, 6))\n",
        "plt.plot(fpr, tpr, color = 'yellow', label = 'ROC curve (area = %f)' % auc)\n",
        "plt.plot([0, 1], [0, 1], linestyle = '--', color = 'darkgreen')\n",
        "plt.xlim([-0.1, 1.0])\n",
        "plt.ylim([0.0, 1.05])\n",
        "plt.xlabel('False Positive Rate')\n",
        "plt.ylabel('True Positive Rate')\n",
        "plt.title('Model Diabetes Classification')\n",
        "plt.legend(loc = \"lower right\")\n",
        "plt.show()"
      ],
      "execution_count": 25,
      "outputs": [
        {
          "output_type": "stream",
          "text": [
            "AUC: 0.7564510427712973\n"
          ],
          "name": "stdout"
        },
        {
          "output_type": "display_data",
          "data": {
            "image/png": "[encoded data removed]",
            "text/plain": [
              "<Figure size 720x432 with 1 Axes>"
            ]
          },
          "metadata": {
            "needs_background": "light"
          }
        }
      ]
    },
    {
      "cell_type": "code",
      "metadata": {
        "id": "aPsbRhmi21Pp"
      },
      "source": [
        ""
      ],
      "execution_count": 25,
      "outputs": []
    }
  ]
}